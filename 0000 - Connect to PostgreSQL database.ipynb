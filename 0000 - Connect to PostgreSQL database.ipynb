{
 "cells": [
  {
   "cell_type": "code",
   "execution_count": 1,
   "id": "95836c2e",
   "metadata": {},
   "outputs": [
    {
     "name": "stdout",
     "output_type": "stream",
     "text": [
      "Collecting psycopg2\n",
      "  Downloading psycopg2-2.9.3-cp39-cp39-win_amd64.whl (1.2 MB)\n",
      "Installing collected packages: psycopg2\n",
      "Successfully installed psycopg2-2.9.3\n",
      "Note: you may need to restart the kernel to use updated packages.\n"
     ]
    }
   ],
   "source": [
    "#pip install psycopg2"
   ]
  },
  {
   "cell_type": "code",
   "execution_count": 3,
   "id": "1f9c5b1f",
   "metadata": {},
   "outputs": [],
   "source": [
    "import psycopg2\n",
    "\n",
    "# spajanje na posgres bazu\n",
    "conn = psycopg2.connect(\"dbname=postgres user=postgres password=d1nk0sql\")"
   ]
  },
  {
   "cell_type": "code",
   "execution_count": 24,
   "id": "e7d587ec",
   "metadata": {},
   "outputs": [
    {
     "name": "stdout",
     "output_type": "stream",
     "text": [
      "      tnxdate    product tnxamount\n",
      "0  2020-01-01  Chair         23.01\n",
      "1  2020-01-01  Chair         32.02\n",
      "2  2020-01-02  Chair         56.04\n",
      "3  2020-01-03  Chair         34.37\n",
      "4  2020-01-03  Chair         65.82\n",
      " \n",
      "tnxdate      object\n",
      "product      object\n",
      "tnxamount    object\n",
      "dtype: object\n"
     ]
    }
   ],
   "source": [
    "import pandas as pd\n",
    "\n",
    "# prepare a cursor object using cursor() method\n",
    "cursor = conn.cursor()\n",
    "\n",
    "# definiranje sql selecta\n",
    "sql = \"select * from dinko_proba.transactions\"\n",
    "\n",
    "# okidamo kursor\n",
    "cursor.execute(sql)\n",
    "data = cursor.fetchall()\n",
    "\n",
    "# nazivi kolona\n",
    "col_names = [i[0] for i in cursor.description]\n",
    "\n",
    "# poclacenje podataka u dataframe\n",
    "df = pd.DataFrame(data, columns=col_names)\n",
    "\n",
    "print(df.head())\n",
    "\n",
    "print(' ')\n",
    "\n",
    "print(df.dtypes)"
   ]
  },
  {
   "cell_type": "markdown",
   "id": "e483677d",
   "metadata": {},
   "source": [
    "# Create table in database"
   ]
  },
  {
   "cell_type": "code",
   "execution_count": 19,
   "id": "6456ef0d",
   "metadata": {},
   "outputs": [
    {
     "name": "stdout",
     "output_type": "stream",
     "text": [
      "['tnxdate', 'product', 'tnxamount']\n"
     ]
    }
   ],
   "source": [
    "# get column names\n",
    "columnName = list(df.columns.values)\n",
    "\n",
    "print(columnName)"
   ]
  },
  {
   "cell_type": "code",
   "execution_count": 20,
   "id": "f7fc976a",
   "metadata": {},
   "outputs": [
    {
     "name": "stdout",
     "output_type": "stream",
     "text": [
      "['varchar', 'varchar', 'varchar']\n"
     ]
    }
   ],
   "source": [
    "# find column data type\n",
    "def getColumnDtypes(dataTypes):\n",
    "    dataList = []\n",
    "    for x in dataTypes:\n",
    "        if(x == 'int64'):\n",
    "            dataList.append('int')\n",
    "        elif (x == 'float64'):\n",
    "            dataList.append('float')\n",
    "        elif (x == 'bool'):\n",
    "            dataList.append('boolean')\n",
    "        else:\n",
    "            dataList.append('varchar')\n",
    "    return dataList\n",
    "\n",
    "columnDataType = getColumnDtypes(df.dtypes)\n",
    "\n",
    "print(columnDataType)"
   ]
  },
  {
   "cell_type": "code",
   "execution_count": 25,
   "id": "cd590ed8",
   "metadata": {},
   "outputs": [
    {
     "name": "stdout",
     "output_type": "stream",
     "text": [
      "CREATE TABLE IF NOT EXISTS dinko_proba.transactions_xx (\n",
      "tnxdate varchar,\n",
      "product varchar,\n",
      "tnxamount varchar );\n"
     ]
    }
   ],
   "source": [
    "# create SQL statment\n",
    "createTableStatement = 'CREATE TABLE IF NOT EXISTS dinko_proba.transactions_xx ('\n",
    "for i in range(len(columnDataType)):\n",
    "    createTableStatement = createTableStatement + '\\n' + columnName[i] + ' ' + columnDataType[i] + ','\n",
    "createTableStatement = createTableStatement[:-1] + ' );'\n",
    "\n",
    "print(createTableStatement)"
   ]
  },
  {
   "cell_type": "code",
   "execution_count": 26,
   "id": "c29db316",
   "metadata": {},
   "outputs": [],
   "source": [
    "# create table\n",
    "cursor.execute(createTableStatement)\n",
    "\n",
    "conn.commit()"
   ]
  },
  {
   "cell_type": "code",
   "execution_count": 15,
   "id": "450683e2",
   "metadata": {},
   "outputs": [],
   "source": [
    "def execute_many(conn, df, table):\n",
    "    \"\"\"\n",
    "    Using cursor.executemany() to insert the dataframe\n",
    "    \"\"\"\n",
    "    # Create a list of tupples from the dataframe values\n",
    "    tuples = [tuple(x) for x in df.to_numpy()]\n",
    "    # Comma-separated dataframe columns\n",
    "    cols = ','.join(list(df.columns))\n",
    "    # SQL quert to execute\n",
    "    query  = \"INSERT INTO %s(%s) VALUES(%%s,%%s,%%s)\" % (table, cols)\n",
    "    cursor = conn.cursor()\n",
    "    try:\n",
    "        cursor.executemany(query, tuples)\n",
    "        conn.commit()\n",
    "    except (Exception, psycopg2.DatabaseError) as error:\n",
    "        print(\"Error: %s\" % error)\n",
    "        conn.rollback()\n",
    "        cursor.close()\n",
    "        return 1\n",
    "    print(\"execute_many() done\")\n",
    "    cursor.close()"
   ]
  },
  {
   "cell_type": "code",
   "execution_count": 27,
   "id": "1dfba978",
   "metadata": {},
   "outputs": [
    {
     "name": "stdout",
     "output_type": "stream",
     "text": [
      "execute_many() done\n"
     ]
    }
   ],
   "source": [
    "#write dataframe to database\n",
    "execute_many(conn, df, 'dinko_proba.transactions_xx')"
   ]
  },
  {
   "cell_type": "code",
   "execution_count": 28,
   "id": "41e936d9",
   "metadata": {},
   "outputs": [],
   "source": [
    "conn.close()"
   ]
  },
  {
   "cell_type": "code",
   "execution_count": null,
   "id": "4c1c3a76",
   "metadata": {},
   "outputs": [],
   "source": []
  }
 ],
 "metadata": {
  "kernelspec": {
   "display_name": "Python 3 (ipykernel)",
   "language": "python",
   "name": "python3"
  },
  "language_info": {
   "codemirror_mode": {
    "name": "ipython",
    "version": 3
   },
   "file_extension": ".py",
   "mimetype": "text/x-python",
   "name": "python",
   "nbconvert_exporter": "python",
   "pygments_lexer": "ipython3",
   "version": "3.9.7"
  }
 },
 "nbformat": 4,
 "nbformat_minor": 5
}
