{
 "cells": [
  {
   "cell_type": "code",
   "execution_count": 5,
   "id": "c560563b",
   "metadata": {},
   "outputs": [],
   "source": [
    "T = [10, 12, -2, -4, 10, 14, 17, 20, 18, 28, 35, 38, 25, 17, 11, 18]"
   ]
  },
  {
   "cell_type": "code",
   "execution_count": 6,
   "id": "1636e2fe",
   "metadata": {},
   "outputs": [
    {
     "name": "stdout",
     "output_type": "stream",
     "text": [
      "[10, 12, -2, -4, 10, 14, 17, 20, 18, 28, 35, 38, 25, 17, 11, 18]\n"
     ]
    }
   ],
   "source": [
    "print(T)"
   ]
  },
  {
   "cell_type": "code",
   "execution_count": 7,
   "id": "5cb1ab77",
   "metadata": {},
   "outputs": [
    {
     "name": "stdout",
     "output_type": "stream",
     "text": [
      "16\n"
     ]
    }
   ],
   "source": [
    "print(len(T))"
   ]
  },
  {
   "cell_type": "code",
   "execution_count": 9,
   "id": "00f963de",
   "metadata": {},
   "outputs": [
    {
     "name": "stdout",
     "output_type": "stream",
     "text": [
      "[array([10, 12, -2, -4]), array([10, 14, 17, 20]), array([18, 28, 35, 38]), array([25, 17, 11, 18])]\n"
     ]
    }
   ],
   "source": [
    "import numpy as np\n",
    "\n",
    "T_splited = np.array_split(T, 4)\n",
    "\n",
    "print(T_splited)"
   ]
  },
  {
   "cell_type": "code",
   "execution_count": 16,
   "id": "f640cdc2",
   "metadata": {},
   "outputs": [
    {
     "name": "stdout",
     "output_type": "stream",
     "text": [
      "[10 12 -2 -4]\n",
      "[10 14 17 20]\n",
      "[18 28 35 38]\n",
      "[25 17 11 18]\n"
     ]
    }
   ],
   "source": [
    "winter = T_splited[0]\n",
    "spring = T_splited[1]\n",
    "summer = T_splited[2]\n",
    "autnum = T_splited[3]\n",
    "\n",
    "\n",
    "print(winter)\n",
    "print(spring)\n",
    "print(summer)\n",
    "print(autnum)"
   ]
  },
  {
   "cell_type": "code",
   "execution_count": 22,
   "id": "8ff54216",
   "metadata": {},
   "outputs": [
    {
     "name": "stdout",
     "output_type": "stream",
     "text": [
      "-4\n",
      "12\n",
      "winter_delta: 16\n",
      "10\n",
      "20\n",
      "spring_delta: 10\n",
      "18\n",
      "38\n",
      "summer_delta: 20\n",
      "11\n",
      "25\n",
      "autnum_delta: 14\n"
     ]
    }
   ],
   "source": [
    "print(min(winter))\n",
    "print(max(winter))\n",
    "\n",
    "winter_delta = max(winter) - min(winter)\n",
    "print('winter_delta: ' + str(winter_delta))\n",
    "\n",
    "print(min(spring))\n",
    "print(max(spring))\n",
    "\n",
    "spring_delta = max(spring) - min(spring)\n",
    "print('spring_delta: ' + str(spring_delta))\n",
    "\n",
    "print(min(summer))\n",
    "print(max(summer))\n",
    "\n",
    "summer_delta = max(summer) - min(summer)\n",
    "print('summer_delta: ' + str(summer_delta))\n",
    "\n",
    "print(min(autnum))\n",
    "print(max(autnum))\n",
    "\n",
    "autnum_delta = max(autnum) - min(autnum)\n",
    "print('autnum_delta: ' + str(autnum_delta))"
   ]
  },
  {
   "cell_type": "code",
   "execution_count": 23,
   "id": "15c19d7a",
   "metadata": {},
   "outputs": [
    {
     "name": "stdout",
     "output_type": "stream",
     "text": [
      "20\n"
     ]
    }
   ],
   "source": [
    "max_delta = max([winter_delta, spring_delta, summer_delta, autnum_delta])\n",
    "\n",
    "print(max_delta)"
   ]
  },
  {
   "cell_type": "code",
   "execution_count": 26,
   "id": "86ce9734",
   "metadata": {},
   "outputs": [
    {
     "name": "stdout",
     "output_type": "stream",
     "text": [
      "summer\n"
     ]
    }
   ],
   "source": [
    "if winter_delta == max_delta:\n",
    "    result = 'winter'\n",
    "elif spring_delta == max_delta:\n",
    "    result = 'spring'\n",
    "elif summer_delta == max_delta:\n",
    "    result = 'summer'\n",
    "else:\n",
    "    result = 'autnum'\n",
    "\n",
    "print(result)"
   ]
  },
  {
   "cell_type": "code",
   "execution_count": 45,
   "id": "6c75c59f",
   "metadata": {},
   "outputs": [],
   "source": [
    "def highest_delta(S):\n",
    "    # split array on seasons\n",
    "    seasons = np.array_split(S, 4)\n",
    "    #extract seasons\n",
    "    winter_ = seasons[0]\n",
    "    spring_ = seasons[1]\n",
    "    summer_ = seasons[2]\n",
    "    autnum_ = seasons[3]\n",
    "    # seasons delta\n",
    "    winter_delta_ = max(winter_) - min(winter_)\n",
    "    spring_delta_ = max(spring_) - min(spring_)\n",
    "    summer_delta_ = max(summer_) - min(summer_)\n",
    "    autnum_delta_ = max(autnum_) - min(autnum_)\n",
    "    # max delta\n",
    "    max_delta_ = max([winter_delta_, spring_delta_, summer_delta_, autnum_delta_])\n",
    "    # find season with highest delta\n",
    "    if winter_delta_ == max_delta_:\n",
    "        result = 'winter'\n",
    "    elif spring_delta_ == max_delta_:\n",
    "        result = 'spring'\n",
    "    elif summer_delta_ == max_delta_:\n",
    "        result = 'summer'\n",
    "    elif autnum_delta_ == max_delta_:\n",
    "        result = 'autnum'\n",
    "    else:\n",
    "        result = 'error'\n",
    "    # print result\n",
    "    print(result)\n",
    "    pass\n",
    "    \n"
   ]
  },
  {
   "cell_type": "code",
   "execution_count": 46,
   "id": "10147370",
   "metadata": {},
   "outputs": [
    {
     "name": "stdout",
     "output_type": "stream",
     "text": [
      "summer\n"
     ]
    }
   ],
   "source": [
    "highest_delta(T)"
   ]
  },
  {
   "cell_type": "code",
   "execution_count": 47,
   "id": "c5e03b2c",
   "metadata": {},
   "outputs": [
    {
     "name": "stdout",
     "output_type": "stream",
     "text": [
      "winter\n"
     ]
    }
   ],
   "source": [
    "M = [10, 12, -2, -4, -25, 8, 10, 14, 17, 20, 22, 18, 28, 35, 38, 25, 13, 17, 11, 18]\n",
    "\n",
    "highest_delta(M)"
   ]
  },
  {
   "cell_type": "code",
   "execution_count": null,
   "id": "1d6495e6",
   "metadata": {},
   "outputs": [],
   "source": []
  }
 ],
 "metadata": {
  "kernelspec": {
   "display_name": "Python 3 (ipykernel)",
   "language": "python",
   "name": "python3"
  },
  "language_info": {
   "codemirror_mode": {
    "name": "ipython",
    "version": 3
   },
   "file_extension": ".py",
   "mimetype": "text/x-python",
   "name": "python",
   "nbconvert_exporter": "python",
   "pygments_lexer": "ipython3",
   "version": "3.9.7"
  }
 },
 "nbformat": 4,
 "nbformat_minor": 5
}
